{
 "cells": [
  {
   "cell_type": "code",
   "execution_count": 11,
   "outputs": [],
   "source": [
    "from logicGateNetwork import Layer, LogicGateNetwork\n",
    "from geneticEngine import GeneticEngine\n",
    "import numpy as np\n",
    "from sklearn.metrics import classification_report"
   ],
   "metadata": {
    "collapsed": false
   }
  },
  {
   "cell_type": "code",
   "execution_count": 2,
   "outputs": [],
   "source": [
    "def evaluate_config(config: str, x: np.ndarray, y: np.ndarray, network: LogicGateNetwork) -> float:\n",
    "    network.set_params(config)\n",
    "    y_pred = network.forward(x)\n",
    "    return sum(np.logical_xor(y, y_pred))"
   ],
   "metadata": {
    "collapsed": false
   }
  },
  {
   "cell_type": "code",
   "execution_count": 3,
   "outputs": [],
   "source": [
    "data = np.random.randint(2, size=(500, 16))\n",
    "\n",
    "target_model = LogicGateNetwork([\n",
    "    Layer(n_features=data.shape[1], units=16),\n",
    "    Layer(n_features=16, units=8),\n",
    "    Layer(n_features=8, units=1)\n",
    "])\n",
    "\n",
    "target_pred = target_model.forward(data)\n",
    "\n",
    "training_model = LogicGateNetwork([\n",
    "    Layer(n_features=data.shape[1], units=16),\n",
    "    Layer(n_features=16, units=8),\n",
    "    Layer(n_features=8, units=1)\n",
    "])\n",
    "\n",
    "conf_len = training_model.get_feature_vector_length()"
   ],
   "metadata": {
    "collapsed": false
   }
  },
  {
   "cell_type": "code",
   "execution_count": 4,
   "outputs": [
    {
     "data": {
      "text/plain": "550"
     },
     "execution_count": 4,
     "metadata": {},
     "output_type": "execute_result"
    }
   ],
   "source": [
    "conf_len"
   ],
   "metadata": {
    "collapsed": false
   }
  },
  {
   "cell_type": "code",
   "execution_count": 5,
   "outputs": [],
   "source": [
    "engine = GeneticEngine(\n",
    "    evaluate_config,\n",
    "    n_units=256,\n",
    "    n_features=1,\n",
    "    feature_size=conf_len,\n",
    "    n_cut_points=int(conf_len / 44),\n",
    "    n_mutate_points=int(conf_len / 44),\n",
    "    cost_function_args=(data, target_pred, training_model)\n",
    ")"
   ],
   "metadata": {
    "collapsed": false
   }
  },
  {
   "cell_type": "code",
   "execution_count": 6,
   "outputs": [
    {
     "name": "stderr",
     "output_type": "stream",
     "text": [
      "Current best fitness: 57.000000: 100%|██████████| 250/250 [00:58<00:00,  4.27it/s]     \n"
     ]
    }
   ],
   "source": [
    "engine.run(n_generations=250, verbose=True)"
   ],
   "metadata": {
    "collapsed": false
   }
  },
  {
   "cell_type": "code",
   "execution_count": 7,
   "outputs": [
    {
     "name": "stdout",
     "output_type": "stream",
     "text": [
      "[57]\n"
     ]
    }
   ],
   "source": [
    "print(evaluate_config(engine.get_best()[0], data, target_pred, training_model))"
   ],
   "metadata": {
    "collapsed": false
   }
  },
  {
   "cell_type": "code",
   "execution_count": 8,
   "outputs": [],
   "source": [
    "training_model.set_params(engine.get_best()[0])"
   ],
   "metadata": {
    "collapsed": false
   }
  },
  {
   "cell_type": "code",
   "execution_count": 9,
   "outputs": [],
   "source": [
    "preds = training_model.forward(data)"
   ],
   "metadata": {
    "collapsed": false
   }
  },
  {
   "cell_type": "code",
   "execution_count": 13,
   "outputs": [
    {
     "name": "stdout",
     "output_type": "stream",
     "text": [
      "              precision    recall  f1-score   support\n",
      "\n",
      "       False       0.75      0.44      0.56        81\n",
      "        True       0.90      0.97      0.93       419\n",
      "\n",
      "    accuracy                           0.89       500\n",
      "   macro avg       0.83      0.71      0.75       500\n",
      "weighted avg       0.88      0.89      0.87       500\n",
      "\n"
     ]
    }
   ],
   "source": [
    "print(classification_report(y_true=target_pred, y_pred=preds))"
   ],
   "metadata": {
    "collapsed": false
   }
  },
  {
   "cell_type": "code",
   "execution_count": null,
   "outputs": [],
   "source": [],
   "metadata": {
    "collapsed": false
   }
  }
 ],
 "metadata": {
  "kernelspec": {
   "display_name": "Python 3",
   "language": "python",
   "name": "python3"
  },
  "language_info": {
   "codemirror_mode": {
    "name": "ipython",
    "version": 2
   },
   "file_extension": ".py",
   "mimetype": "text/x-python",
   "name": "python",
   "nbconvert_exporter": "python",
   "pygments_lexer": "ipython2",
   "version": "2.7.6"
  }
 },
 "nbformat": 4,
 "nbformat_minor": 0
}
